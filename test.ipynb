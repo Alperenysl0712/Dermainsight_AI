{
 "cells": [
  {
   "cell_type": "code",
   "id": "initial_id",
   "metadata": {
    "collapsed": true,
    "ExecuteTime": {
     "end_time": "2025-05-29T22:38:03.180Z",
     "start_time": "2025-05-29T22:38:03.067030Z"
    }
   },
   "source": [
    "from PIL import Image, ImageEnhance, ImageFilter\n",
    "\n",
    "def enhance_and_save_image(input_path, output_path):\n",
    "    # Resmi yükle\n",
    "    image = Image.open(input_path).convert(\"RGB\")\n",
    "\n",
    "    # Kontrastı artır\n",
    "    image = ImageEnhance.Contrast(image).enhance(1.5)\n",
    "\n",
    "    # Keskinliği artır (netleştir)\n",
    "    image = ImageEnhance.Sharpness(image).enhance(2.0)\n",
    "\n",
    "    # Gürültüyü azalt (median filtre uygula)\n",
    "    image = image.filter(ImageFilter.MedianFilter(size=3))\n",
    "\n",
    "    # İşlenmiş resmi kaydet\n",
    "    image.save(output_path)\n",
    "    print(f\"✅ İşlenmiş resim kaydedildi: {output_path}\")\n",
    "\n",
    "# Örnek kullanım:\n",
    "if __name__ == \"__main__\":\n",
    "    input_image = \"test2.png\"    # Girdi resminin dosya yolu\n",
    "    output_image = \"enhanced.png\"   # İşlenmiş çıktı resmi dosya yolu\n",
    "\n",
    "    enhance_and_save_image(input_image, output_image)\n"
   ],
   "outputs": [
    {
     "name": "stdout",
     "output_type": "stream",
     "text": [
      "✅ İşlenmiş resim kaydedildi: enhanced.png\n"
     ]
    }
   ],
   "execution_count": 2
  }
 ],
 "metadata": {
  "kernelspec": {
   "display_name": "Python 3",
   "language": "python",
   "name": "python3"
  },
  "language_info": {
   "codemirror_mode": {
    "name": "ipython",
    "version": 2
   },
   "file_extension": ".py",
   "mimetype": "text/x-python",
   "name": "python",
   "nbconvert_exporter": "python",
   "pygments_lexer": "ipython2",
   "version": "2.7.6"
  }
 },
 "nbformat": 4,
 "nbformat_minor": 5
}
